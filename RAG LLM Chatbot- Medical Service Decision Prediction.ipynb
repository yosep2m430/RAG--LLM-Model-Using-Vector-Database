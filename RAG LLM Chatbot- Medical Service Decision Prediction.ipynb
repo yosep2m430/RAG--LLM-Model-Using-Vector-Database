{
 "cells": [
  {
   "cell_type": "markdown",
   "id": "3b4e4d7c",
   "metadata": {},
   "source": [
    "# Pinecone Demo- Medical Service Decision Prediction Presentation"
   ]
  },
  {
   "cell_type": "code",
   "execution_count": 1,
   "id": "29a33ac8",
   "metadata": {},
   "outputs": [],
   "source": [
    "import pandas as pd\n",
    "import numpy as np\n",
    "import pinecone\n",
    "import openai\n",
    "\n",
    "import os"
   ]
  },
  {
   "cell_type": "code",
   "execution_count": 2,
   "id": "0caea913",
   "metadata": {},
   "outputs": [
    {
     "data": {
      "text/plain": [
       "True"
      ]
     },
     "execution_count": 2,
     "metadata": {},
     "output_type": "execute_result"
    }
   ],
   "source": [
    "from dotenv import load_dotenv\n",
    "load_dotenv()"
   ]
  },
  {
   "cell_type": "code",
   "execution_count": 3,
   "id": "1ed338ad",
   "metadata": {},
   "outputs": [],
   "source": [
    "openai.api_key = os.getenv(\"OPENAI_API_KEY\")"
   ]
  },
  {
   "cell_type": "code",
   "execution_count": 4,
   "id": "fb4c843a",
   "metadata": {},
   "outputs": [
    {
     "name": "stdout",
     "output_type": "stream",
     "text": [
      "Chet Baker first played at Birdland in 1953.\n"
     ]
    }
   ],
   "source": [
    "messages = [\n",
    "    {\"role\": \"user\", \n",
    "     \"content\": \"Which year did Chet Baker first play at Birdland?\"\n",
    "    }\n",
    "]\n",
    "\n",
    "# now query WITHOUT context\n",
    "response = openai.chat.completions.create(\n",
    "    model='gpt-3.5-turbo',  \n",
    "    messages=messages,\n",
    "    temperature=0,\n",
    "    max_tokens=400,\n",
    "    top_p=1,\n",
    "    frequency_penalty=0,\n",
    "    presence_penalty=0,\n",
    "    stop=None\n",
    ")\n",
    "\n",
    "print(response.choices[0].message.content.strip())"
   ]
  },
  {
   "cell_type": "code",
   "execution_count": 5,
   "id": "4e25d815",
   "metadata": {
    "scrolled": true
   },
   "outputs": [
    {
     "name": "stdout",
     "output_type": "stream",
     "text": [
      "API Authentication Successful. Available models:\n",
      "tts-1-1106\n",
      "gpt-3.5-turbo-16k\n",
      "gpt-4o\n",
      "tts-1-hd-1106\n",
      "gpt-3.5-turbo-instruct-0914\n",
      "davinci-002\n",
      "tts-1-hd\n",
      "gpt-3.5-turbo-1106\n",
      "gpt-4-turbo-2024-04-09\n",
      "gpt-4-0125-preview\n",
      "whisper-1\n",
      "text-embedding-3-large\n",
      "gpt-3.5-turbo\n",
      "gpt-3.5-turbo-instruct\n",
      "gpt-4-turbo-preview\n",
      "gpt-3.5-turbo-0125\n",
      "gpt-4o-mini-2024-07-18\n",
      "babbage-002\n",
      "gpt-4-0613\n",
      "gpt-4\n",
      "gpt-4o-mini\n",
      "gpt-4-1106-preview\n",
      "dall-e-3\n",
      "gpt-4-turbo\n",
      "text-embedding-3-small\n",
      "text-embedding-ada-002\n",
      "tts-1\n",
      "gpt-4o-2024-05-13\n",
      "dall-e-2\n"
     ]
    }
   ],
   "source": [
    "try:\n",
    "    # Test API call to list available models\n",
    "    models = openai.models.list()\n",
    "    print(\"API Authentication Successful. Available models:\")\n",
    "    \n",
    "   \n",
    "    for model in models.data:\n",
    "        print(model.id)\n",
    "except openai.AuthenticationError as e:\n",
    "    print(f\"Authentication failed: {e}\")\n",
    "except openai.RateLimitError as e:\n",
    "    print(f\"Rate limit exceeded: {e}\")\n",
    "except openai.OpenAIError as e:\n",
    "    print(f\"An OpenAI error occurred: {e}\")\n",
    "except Exception as e:\n",
    "    print(f\"An unexpected error occurred: {e}\")"
   ]
  },
  {
   "cell_type": "code",
   "execution_count": 6,
   "id": "21b56432",
   "metadata": {},
   "outputs": [],
   "source": [
    "df= pd.read_csv('/Users/josephlim/Downloads/Independent_Medical_Reviews.csv')"
   ]
  },
  {
   "cell_type": "code",
   "execution_count": 7,
   "id": "73241b5c",
   "metadata": {},
   "outputs": [
    {
     "data": {
      "text/html": [
       "<div>\n",
       "<style scoped>\n",
       "    .dataframe tbody tr th:only-of-type {\n",
       "        vertical-align: middle;\n",
       "    }\n",
       "\n",
       "    .dataframe tbody tr th {\n",
       "        vertical-align: top;\n",
       "    }\n",
       "\n",
       "    .dataframe thead th {\n",
       "        text-align: right;\n",
       "    }\n",
       "</style>\n",
       "<table border=\"1\" class=\"dataframe\">\n",
       "  <thead>\n",
       "    <tr style=\"text-align: right;\">\n",
       "      <th></th>\n",
       "      <th>Reference ID</th>\n",
       "      <th>Report Year</th>\n",
       "      <th>Diagnosis Category</th>\n",
       "      <th>Diagnosis Sub Category</th>\n",
       "      <th>Treatment Category</th>\n",
       "      <th>Treatment Sub Category</th>\n",
       "      <th>Determination</th>\n",
       "      <th>Type</th>\n",
       "      <th>Age Range</th>\n",
       "      <th>Patient Gender</th>\n",
       "      <th>Findings</th>\n",
       "    </tr>\n",
       "  </thead>\n",
       "  <tbody>\n",
       "    <tr>\n",
       "      <th>0</th>\n",
       "      <td>MN16-22639</td>\n",
       "      <td>2016</td>\n",
       "      <td>Infectious</td>\n",
       "      <td>Hepatitis</td>\n",
       "      <td>Pharmacy/Prescription Drugs</td>\n",
       "      <td>Anti-virals</td>\n",
       "      <td>Overturned Decision of Health Plan</td>\n",
       "      <td>Medical Necessity</td>\n",
       "      <td>41-50</td>\n",
       "      <td>Male</td>\n",
       "      <td>Nature of Statutory Criteria/Case Summary: An ...</td>\n",
       "    </tr>\n",
       "    <tr>\n",
       "      <th>1</th>\n",
       "      <td>MN16-22638</td>\n",
       "      <td>2016</td>\n",
       "      <td>Mental</td>\n",
       "      <td>Eating Disorder</td>\n",
       "      <td>Mental Health Treatment</td>\n",
       "      <td>Residential Treatment Center - Admission</td>\n",
       "      <td>Upheld Decision of Health Plan</td>\n",
       "      <td>Medical Necessity</td>\n",
       "      <td>21-30</td>\n",
       "      <td>Female</td>\n",
       "      <td>Nature of Statutory Criteria/Case Summary:  An...</td>\n",
       "    </tr>\n",
       "    <tr>\n",
       "      <th>2</th>\n",
       "      <td>MN16-22637</td>\n",
       "      <td>2016</td>\n",
       "      <td>Autism Spectrum</td>\n",
       "      <td>Autism-PDD-NOS</td>\n",
       "      <td>Autism Related Treatment</td>\n",
       "      <td>Speech Therapy</td>\n",
       "      <td>Upheld Decision of Health Plan</td>\n",
       "      <td>Medical Necessity</td>\n",
       "      <td>0-10</td>\n",
       "      <td>Female</td>\n",
       "      <td>Nature of Statutory Criteria/Case Summary:  Th...</td>\n",
       "    </tr>\n",
       "    <tr>\n",
       "      <th>3</th>\n",
       "      <td>EI16-22636</td>\n",
       "      <td>2016</td>\n",
       "      <td>Prevention/Good Health</td>\n",
       "      <td>NaN</td>\n",
       "      <td>Diagnostic Imaging, Screening and Testing</td>\n",
       "      <td>Mammography</td>\n",
       "      <td>Overturned Decision of Health Plan</td>\n",
       "      <td>Experimental/Investigational</td>\n",
       "      <td>65+</td>\n",
       "      <td>Female</td>\n",
       "      <td>Nature of Statutory Criteria/Case Summary: An ...</td>\n",
       "    </tr>\n",
       "    <tr>\n",
       "      <th>4</th>\n",
       "      <td>EI06-5319</td>\n",
       "      <td>2006</td>\n",
       "      <td>Cardiac/Circulatory</td>\n",
       "      <td>NaN</td>\n",
       "      <td>Cardio Vascular</td>\n",
       "      <td>NaN</td>\n",
       "      <td>Upheld Decision of Health Plan</td>\n",
       "      <td>Experimental/Investigational</td>\n",
       "      <td>51-64</td>\n",
       "      <td>Male</td>\n",
       "      <td>Physician 1: The patient is a 62-year-old male...</td>\n",
       "    </tr>\n",
       "  </tbody>\n",
       "</table>\n",
       "</div>"
      ],
      "text/plain": [
       "  Reference ID  Report Year      Diagnosis Category Diagnosis Sub Category  \\\n",
       "0   MN16-22639         2016              Infectious              Hepatitis   \n",
       "1   MN16-22638         2016                  Mental        Eating Disorder   \n",
       "2   MN16-22637         2016         Autism Spectrum         Autism-PDD-NOS   \n",
       "3   EI16-22636         2016  Prevention/Good Health                    NaN   \n",
       "4    EI06-5319         2006     Cardiac/Circulatory                    NaN   \n",
       "\n",
       "                          Treatment Category  \\\n",
       "0                Pharmacy/Prescription Drugs   \n",
       "1                    Mental Health Treatment   \n",
       "2                   Autism Related Treatment   \n",
       "3  Diagnostic Imaging, Screening and Testing   \n",
       "4                            Cardio Vascular   \n",
       "\n",
       "                     Treatment Sub Category  \\\n",
       "0                               Anti-virals   \n",
       "1  Residential Treatment Center - Admission   \n",
       "2                            Speech Therapy   \n",
       "3                               Mammography   \n",
       "4                                       NaN   \n",
       "\n",
       "                        Determination                          Type Age Range  \\\n",
       "0  Overturned Decision of Health Plan             Medical Necessity     41-50   \n",
       "1      Upheld Decision of Health Plan             Medical Necessity     21-30   \n",
       "2      Upheld Decision of Health Plan             Medical Necessity      0-10   \n",
       "3  Overturned Decision of Health Plan  Experimental/Investigational       65+   \n",
       "4      Upheld Decision of Health Plan  Experimental/Investigational     51-64   \n",
       "\n",
       "  Patient Gender                                           Findings  \n",
       "0           Male  Nature of Statutory Criteria/Case Summary: An ...  \n",
       "1         Female  Nature of Statutory Criteria/Case Summary:  An...  \n",
       "2         Female  Nature of Statutory Criteria/Case Summary:  Th...  \n",
       "3         Female  Nature of Statutory Criteria/Case Summary: An ...  \n",
       "4           Male  Physician 1: The patient is a 62-year-old male...  "
      ]
     },
     "execution_count": 7,
     "metadata": {},
     "output_type": "execute_result"
    }
   ],
   "source": [
    "df.head(5)"
   ]
  },
  {
   "cell_type": "code",
   "execution_count": 8,
   "id": "570f9f91",
   "metadata": {},
   "outputs": [
    {
     "data": {
      "text/plain": [
       "(19245, 11)"
      ]
     },
     "execution_count": 8,
     "metadata": {},
     "output_type": "execute_result"
    }
   ],
   "source": [
    "df.shape"
   ]
  },
  {
   "cell_type": "code",
   "execution_count": 9,
   "id": "4d75a044",
   "metadata": {},
   "outputs": [
    {
     "name": "stdout",
     "output_type": "stream",
     "text": [
      "It is possible that the decision to deny occupational therapy for the enrollee's medical condition may be upheld, as the treatment requested does not directly align with the diagnosis of Autism Spectrum Disorder. However, it is important to consider the individual needs of the enrollee and the potential benefits that occupational therapy may provide in improving their overall well-being and quality of life. It may be beneficial for the parent to appeal the decision and provide additional information or documentation to support the need for occupational therapy in this case. Ultimately, the final decision will depend on the specific policies and guidelines of the health plan.\n"
     ]
    }
   ],
   "source": [
    "messages = [\n",
    "    {\"role\": \"user\", \n",
    "     \"content\": \"A male in his pre-teen age with Autism Spectrum Disorder has requested Speech Therapy. The parent of an enrollee has requested occupational therapy for one hour per week for treatment of the enrollee’s medical condition. The health plan has made the decision to deny her the treatment. Here are more detailed information about this case: Report Year: 2016, Diagnosis Category:Autism Spectrum, Diagnosis Sub Category: Autism-PDD-NOS, Treatment Category: Autism Related Treatment. Will this decision be upheld?\"\n",
    "    }\n",
    "]\n",
    "\n",
    "# now query WITHOUT context\n",
    "response = openai.chat.completions.create(\n",
    "    model='gpt-3.5-turbo',  \n",
    "    messages=messages,\n",
    "    temperature=0,\n",
    "    max_tokens=400,\n",
    "    top_p=1,\n",
    "    frequency_penalty=0,\n",
    "    presence_penalty=0,\n",
    "    stop=None\n",
    ")\n",
    "\n",
    "print(response.choices[0].message.content.strip())"
   ]
  },
  {
   "cell_type": "code",
   "execution_count": 10,
   "id": "65edb584",
   "metadata": {},
   "outputs": [],
   "source": [
    "from pinecone import Pinecone\n",
    "api_key= os.getenv('PINECONE_API_KEY')\n",
    "region= os.getenv('PINECONE_REGION')\n",
    "pc= Pinecone(api_key= api_key)"
   ]
  },
  {
   "cell_type": "code",
   "execution_count": 11,
   "id": "2b140494",
   "metadata": {},
   "outputs": [],
   "source": [
    "from pinecone import ServerlessSpec\n",
    "\n",
    "cloud= os.getenv('PINECONE_CLOUD')\n",
    "region= os.getenv('PINECONE_REGION')\n",
    "\n",
    "spec= ServerlessSpec(cloud= cloud, region= region)"
   ]
  },
  {
   "cell_type": "code",
   "execution_count": 12,
   "id": "a5d70f4d",
   "metadata": {},
   "outputs": [],
   "source": [
    "index_name = 'healthcare-predictions'\n",
    "indexes = pc.list_indexes()"
   ]
  },
  {
   "cell_type": "code",
   "execution_count": 13,
   "id": "12bcc2da",
   "metadata": {},
   "outputs": [],
   "source": [
    "index = pc.Index(index_name)"
   ]
  },
  {
   "cell_type": "code",
   "execution_count": 14,
   "id": "788cfbee",
   "metadata": {},
   "outputs": [],
   "source": [
    "def get_embeddings(text):\n",
    "    response = openai.embeddings.create(input=text, model=\"text-embedding-ada-002\")\n",
    "    return list(response.data[0].embedding)"
   ]
  },
  {
   "cell_type": "code",
   "execution_count": 15,
   "id": "c1173069",
   "metadata": {},
   "outputs": [],
   "source": [
    "def predict_decision(text):\n",
    "    query_vector = get_embeddings(text)\n",
    "\n",
    "    results = index.query(vector=query_vector, top_k=5, include_metadata=True)\n",
    "\n",
    "    similar_findings = []\n",
    "    determinations = []\n",
    "    similarities = []  # Store similarity scores\n",
    "\n",
    "    for result in results['matches']:\n",
    "        metadata = result.get('metadata', {})\n",
    "        finding = metadata.get('text', \"No finding available\")\n",
    "        determination = metadata.get('Determination', \"No determination available\")\n",
    "        \n",
    "        similar_findings.append(finding)\n",
    "        determinations.append(determination)\n",
    "        similarities.append(result['score'])  # Get the similarity score\n",
    "\n",
    "    # Print the vector similarities of top 5 vectors\n",
    "    print(\"Top 5 similar vectors and their similarities:\")\n",
    "    for finding, determination, similarity in zip(similar_findings, determinations, similarities):\n",
    "        print(f\"Determination: {determination}, Similarity: {similarity}\")\n",
    "\n",
    "    prompt = (\n",
    "        \"Based on the following similar cases and their determinations, \"\n",
    "        \"predict the determination for the new case: \"\n",
    "        + \" \".join(f\"Finding: {f}, Determination: {d}\" for f, d in zip(similar_findings, determinations))\n",
    "    )\n",
    "    \n",
    "    response = openai.chat.completions.create(\n",
    "        model=\"gpt-3.5-turbo\",\n",
    "        messages=[\n",
    "            {\"role\": \"system\", \"content\": \"You are a helpful assistant.\"},\n",
    "            {\"role\": \"user\", \"content\": prompt}\n",
    "        ]\n",
    "    )\n",
    "    \n",
    "    for choice in response.choices:\n",
    "        print(choice)\n",
    "    \n",
    "    return response.choices[0].message.content"
   ]
  },
  {
   "cell_type": "code",
   "execution_count": null,
   "id": "77f8e477",
   "metadata": {},
   "outputs": [
    {
     "name": "stdout",
     "output_type": "stream",
     "text": [
      "You: A male in his pre-teen age with Autism Spectrum Disorder has requested Speech Therapy. The parent of an enrollee has requested occupational therapy for one hour per week for treatment of the enrollee’s medical condition. The health plan has made the decision to deny her the treatment. Here are more detailed information about this case: Report Year: 2016, Diagnosis Category:Autism Spectrum, Diagnosis Sub Category: Autism-PDD-NOS, Treatment Category: Autism Related Treatment. Will this decision be upheld?\n",
      "Top 5 similar vectors and their similarities:\n",
      "Determination: Overturned Decision of Health Plan, Similarity: 0.934200227\n",
      "Determination: Overturned Decision of Health Plan, Similarity: 0.933039546\n",
      "Determination: Overturned Decision of Health Plan, Similarity: 0.9323\n",
      "Determination: Overturned Decision of Health Plan, Similarity: 0.929806888\n",
      "Determination: Overturned Decision of Health Plan, Similarity: 0.929252565\n",
      "Choice(finish_reason='stop', index=0, logprobs=None, message=ChatCompletionMessage(content='Based on the pattern observed in the previous cases where there was no finding available and the determination was to overturn the decision of the health plan, it is likely that the same determination will apply to the new case. Therefore, the prediction for the new case would be: Determination - Overturned Decision of Health Plan.', role='assistant', function_call=None, tool_calls=None))\n",
      "Chatbot: Based on the pattern observed in the previous cases where there was no finding available and the determination was to overturn the decision of the health plan, it is likely that the same determination will apply to the new case. Therefore, the prediction for the new case would be: Determination - Overturned Decision of Health Plan.\n"
     ]
    }
   ],
   "source": [
    "while True:\n",
    "    user_message = input(\"You: \")\n",
    "    if user_message.lower() in ['exit', 'quit']:\n",
    "        break\n",
    "    response = predict_decision(user_message)\n",
    "    print(\"Chatbot:\", response)"
   ]
  },
  {
   "cell_type": "markdown",
   "id": "7065e2df",
   "metadata": {},
   "source": [
    "Suggested prompt: A male in his pre-teen age with Autism Spectrum Disorder has requested Speech Therapy. The parent of an enrollee has requested occupational therapy for one hour per week for treatment of the enrollee’s medical condition. The health plan has made the decision to deny her the treatment. Here are more detailed information about this case: Report Year: 2016, Diagnosis Category:Autism Spectrum, Diagnosis Sub Category: Autism-PDD-NOS, Treatment Category: Autism Related Treatment. Will this decision be upheld?"
   ]
  }
 ],
 "metadata": {
  "kernelspec": {
   "display_name": "Python 3 (ipykernel)",
   "language": "python",
   "name": "python3"
  },
  "language_info": {
   "codemirror_mode": {
    "name": "ipython",
    "version": 3
   },
   "file_extension": ".py",
   "mimetype": "text/x-python",
   "name": "python",
   "nbconvert_exporter": "python",
   "pygments_lexer": "ipython3",
   "version": "3.9.12"
  }
 },
 "nbformat": 4,
 "nbformat_minor": 5
}
